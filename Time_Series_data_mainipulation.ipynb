{
  "nbformat": 4,
  "nbformat_minor": 0,
  "metadata": {
    "colab": {
      "name": "Time Series data mainipulation.ipynb",
      "provenance": []
    },
    "kernelspec": {
      "name": "python3",
      "display_name": "Python 3"
    },
    "language_info": {
      "name": "python"
    }
  },
  "cells": [
    {
      "cell_type": "code",
      "execution_count": 1,
      "metadata": {
        "id": "aF9UKEJArdj1"
      },
      "outputs": [],
      "source": [
        "import tensorflow as tf"
      ]
    },
    {
      "cell_type": "code",
      "source": [
        "dataset = tf.data.Dataset.range(10)\n"
      ],
      "metadata": {
        "id": "ntpoSgbcBmXE"
      },
      "execution_count": 12,
      "outputs": []
    },
    {
      "cell_type": "code",
      "source": [
        "print(dataset)"
      ],
      "metadata": {
        "colab": {
          "base_uri": "https://localhost:8080/"
        },
        "id": "KrYYVfdzBpNp",
        "outputId": "cae54417-8297-47be-d4da-408c3c07316b"
      },
      "execution_count": 13,
      "outputs": [
        {
          "output_type": "stream",
          "name": "stdout",
          "text": [
            "<RangeDataset element_spec=TensorSpec(shape=(), dtype=tf.int64, name=None)>\n"
          ]
        }
      ]
    },
    {
      "cell_type": "code",
      "source": [
        "dataset = dataset.window(5,shift = 1,drop_remainder = True)"
      ],
      "metadata": {
        "id": "4HiE2nXFBsBY"
      },
      "execution_count": 14,
      "outputs": []
    },
    {
      "cell_type": "code",
      "source": [
        "dataset = dataset.flat_map(lambda window:window.batch(5))"
      ],
      "metadata": {
        "id": "L2ZCqMjiB3pv"
      },
      "execution_count": 15,
      "outputs": []
    },
    {
      "cell_type": "code",
      "source": [
        "dataset = dataset.map(lambda window: (window[:-1],window[-1:]))\n",
        "for x,y in dataset:\n",
        "  print(x.numpy(),y.numpy())"
      ],
      "metadata": {
        "colab": {
          "base_uri": "https://localhost:8080/"
        },
        "id": "ZmjUsqKTB_ql",
        "outputId": "a61043af-cee9-4ba7-84dd-3af4f9b78b4b"
      },
      "execution_count": 16,
      "outputs": [
        {
          "output_type": "stream",
          "name": "stdout",
          "text": [
            "[0 1 2 3] [4]\n",
            "[1 2 3 4] [5]\n",
            "[2 3 4 5] [6]\n",
            "[3 4 5 6] [7]\n",
            "[4 5 6 7] [8]\n",
            "[5 6 7 8] [9]\n"
          ]
        }
      ]
    },
    {
      "cell_type": "code",
      "source": [
        "dataset = dataset.shuffle(buffer_size = 10)\n",
        "dataset = dataset.batch(2).prefetch(1)\n",
        "for x, y in dataset:\n",
        "  print('x = ',x.numpy())\n",
        "  print('y = ',y.numpy())"
      ],
      "metadata": {
        "colab": {
          "base_uri": "https://localhost:8080/"
        },
        "id": "janz4dQsCC_k",
        "outputId": "c58f5ef4-63b2-45b6-c317-b0cbf5c7d4c6"
      },
      "execution_count": 17,
      "outputs": [
        {
          "output_type": "stream",
          "name": "stdout",
          "text": [
            "x =  [[3 4 5 6]\n",
            " [2 3 4 5]]\n",
            "y =  [[7]\n",
            " [6]]\n",
            "x =  [[4 5 6 7]\n",
            " [5 6 7 8]]\n",
            "y =  [[8]\n",
            " [9]]\n",
            "x =  [[0 1 2 3]\n",
            " [1 2 3 4]]\n",
            "y =  [[4]\n",
            " [5]]\n"
          ]
        }
      ]
    },
    {
      "cell_type": "code",
      "source": [
        "def trend(time, slope=0):\n",
        " return slope * time\n",
        "def seasonal_pattern(season_time):\n",
        " return np.where(season_time < 0.4,\n",
        " np.cos(season_time * 2 * np.pi),\n",
        " 1 / np.exp(3 * season_time))\n",
        "def seasonality(time, period, amplitude=1, phase=0):\n",
        " season_time = ((time + phase) % period) / period\n",
        " return amplitude * seasonal_pattern(season_time)"
      ],
      "metadata": {
        "id": "kiULR8k7DJgb"
      },
      "execution_count": 18,
      "outputs": []
    },
    {
      "cell_type": "code",
      "source": [
        "import numpy as np\n",
        "def noise(time, noise_level=1, seed=None):\n",
        " rnd = np.random.RandomState(seed)\n",
        " return rnd.randn(len(time)) * noise_level\n",
        "time = np.arange(4 * 365 + 1, dtype=\"float32\")\n",
        "series = trend(time, 0.1)\n",
        "baseline = 10\n",
        "amplitude = 20\n",
        "slope = 0.09\n",
        "noise_level = 5"
      ],
      "metadata": {
        "id": "suB9RS_bDpZw"
      },
      "execution_count": 20,
      "outputs": []
    },
    {
      "cell_type": "code",
      "source": [
        "series = baseline + trend(time, slope)\n",
        "series += seasonality(time, period=365, amplitude=amplitude)\n",
        "series += noise(time, noise_level, seed=42)"
      ],
      "metadata": {
        "id": "zGjGq5BRDs3t"
      },
      "execution_count": 21,
      "outputs": []
    },
    {
      "cell_type": "code",
      "source": [
        "def windowed_dataset(series, window_size,\n",
        " batch_size, shuffle_buffer):\n",
        " dataset = tf.data.Dataset.from_tensor_slices(series)\n",
        " dataset = dataset.window(window_size + 1, shift=1,\n",
        " drop_remainder=True)\n",
        " dataset = dataset.flat_map(lambda window:\n",
        " window.batch(window_size + 1))\n",
        " dataset = dataset.shuffle(shuffle_buffer).map(\n",
        " lambda window:\n",
        " (window[:-1], window[-1]))\n",
        " dataset = dataset.batch(batch_size).prefetch(1)\n",
        " return dataset\n"
      ],
      "metadata": {
        "id": "Xh3q4eFLDyL6"
      },
      "execution_count": 22,
      "outputs": []
    },
    {
      "cell_type": "code",
      "source": [
        "split_time = 1000\n",
        "time_train = time[:split_time]\n",
        "x_train = series[:split_time]\n",
        "time_valid = time[split_time:]\n",
        "x_valid = series[split_time:]\n",
        "window_size = 20\n",
        "batch_size = 32\n",
        "shuffle_buffer_size = 1000"
      ],
      "metadata": {
        "id": "RXNzTYF-D8xA"
      },
      "execution_count": 23,
      "outputs": []
    },
    {
      "cell_type": "code",
      "source": [
        "dataset = windowed_dataset(x_train, window_size, batch_size,\n",
        " shuffle_buffer_size)"
      ],
      "metadata": {
        "id": "IUbzh9wIEFCI"
      },
      "execution_count": 24,
      "outputs": []
    },
    {
      "cell_type": "code",
      "source": [
        "model = tf.keras.models.Sequential([\n",
        " tf.keras.layers.Dense(10, input_shape=[window_size],\n",
        " activation=\"relu\"),\n",
        " tf.keras.layers.Dense(10, activation=\"relu\"),\n",
        " tf.keras.layers.Dense(1)\n",
        "])\n"
      ],
      "metadata": {
        "id": "e3hZeVdSEJkx"
      },
      "execution_count": 25,
      "outputs": []
    },
    {
      "cell_type": "code",
      "source": [
        "model.compile(loss=\"mse\",optimizer=tf.keras.optimizers.SGD(\n",
        " learning_rate=1e-6,\n",
        " momentum=0.9))"
      ],
      "metadata": {
        "id": "3sNGOD4tEUGB"
      },
      "execution_count": 27,
      "outputs": []
    },
    {
      "cell_type": "code",
      "source": [
        "model.fit(dataset,epochs=100,verbose=1)\n"
      ],
      "metadata": {
        "colab": {
          "base_uri": "https://localhost:8080/"
        },
        "id": "0Css06WiEd7U",
        "outputId": "d03e79b1-ac86-4709-816c-ec2a49a90bbc"
      },
      "execution_count": 28,
      "outputs": [
        {
          "output_type": "stream",
          "name": "stdout",
          "text": [
            "Epoch 1/100\n",
            "31/31 [==============================] - 1s 3ms/step - loss: 1096.0731\n",
            "Epoch 2/100\n",
            "31/31 [==============================] - 0s 3ms/step - loss: 85.2613\n",
            "Epoch 3/100\n",
            "31/31 [==============================] - 0s 3ms/step - loss: 61.6901\n",
            "Epoch 4/100\n",
            "31/31 [==============================] - 0s 3ms/step - loss: 59.6057\n",
            "Epoch 5/100\n",
            "31/31 [==============================] - 0s 3ms/step - loss: 57.9547\n",
            "Epoch 6/100\n",
            "31/31 [==============================] - 0s 3ms/step - loss: 56.6838\n",
            "Epoch 7/100\n",
            "31/31 [==============================] - 0s 3ms/step - loss: 55.7997\n",
            "Epoch 8/100\n",
            "31/31 [==============================] - 0s 3ms/step - loss: 54.8564\n",
            "Epoch 9/100\n",
            "31/31 [==============================] - 0s 3ms/step - loss: 53.2078\n",
            "Epoch 10/100\n",
            "31/31 [==============================] - 0s 3ms/step - loss: 52.3994\n",
            "Epoch 11/100\n",
            "31/31 [==============================] - 0s 4ms/step - loss: 51.5537\n",
            "Epoch 12/100\n",
            "31/31 [==============================] - 0s 3ms/step - loss: 50.5650\n",
            "Epoch 13/100\n",
            "31/31 [==============================] - 0s 3ms/step - loss: 49.5123\n",
            "Epoch 14/100\n",
            "31/31 [==============================] - 0s 3ms/step - loss: 48.9503\n",
            "Epoch 15/100\n",
            "31/31 [==============================] - 0s 3ms/step - loss: 48.8269\n",
            "Epoch 16/100\n",
            "31/31 [==============================] - 0s 2ms/step - loss: 47.5117\n",
            "Epoch 17/100\n",
            "31/31 [==============================] - 0s 4ms/step - loss: 46.8368\n",
            "Epoch 18/100\n",
            "31/31 [==============================] - 0s 4ms/step - loss: 46.2907\n",
            "Epoch 19/100\n",
            "31/31 [==============================] - 0s 3ms/step - loss: 45.6882\n",
            "Epoch 20/100\n",
            "31/31 [==============================] - 0s 3ms/step - loss: 45.1439\n",
            "Epoch 21/100\n",
            "31/31 [==============================] - 0s 3ms/step - loss: 45.2777\n",
            "Epoch 22/100\n",
            "31/31 [==============================] - 0s 3ms/step - loss: 44.8044\n",
            "Epoch 23/100\n",
            "31/31 [==============================] - 0s 3ms/step - loss: 44.4632\n",
            "Epoch 24/100\n",
            "31/31 [==============================] - 0s 3ms/step - loss: 44.1415\n",
            "Epoch 25/100\n",
            "31/31 [==============================] - 0s 3ms/step - loss: 43.2108\n",
            "Epoch 26/100\n",
            "31/31 [==============================] - 0s 3ms/step - loss: 43.1003\n",
            "Epoch 27/100\n",
            "31/31 [==============================] - 0s 3ms/step - loss: 42.4064\n",
            "Epoch 28/100\n",
            "31/31 [==============================] - 0s 3ms/step - loss: 42.3806\n",
            "Epoch 29/100\n",
            "31/31 [==============================] - 0s 3ms/step - loss: 41.9065\n",
            "Epoch 30/100\n",
            "31/31 [==============================] - 0s 3ms/step - loss: 41.1753\n",
            "Epoch 31/100\n",
            "31/31 [==============================] - 0s 3ms/step - loss: 41.2213\n",
            "Epoch 32/100\n",
            "31/31 [==============================] - 0s 2ms/step - loss: 41.0042\n",
            "Epoch 33/100\n",
            "31/31 [==============================] - 0s 3ms/step - loss: 40.3892\n",
            "Epoch 34/100\n",
            "31/31 [==============================] - 0s 3ms/step - loss: 39.4910\n",
            "Epoch 35/100\n",
            "31/31 [==============================] - 0s 3ms/step - loss: 39.8647\n",
            "Epoch 36/100\n",
            "31/31 [==============================] - 0s 3ms/step - loss: 39.3562\n",
            "Epoch 37/100\n",
            "31/31 [==============================] - 0s 3ms/step - loss: 38.7310\n",
            "Epoch 38/100\n",
            "31/31 [==============================] - 0s 3ms/step - loss: 38.7480\n",
            "Epoch 39/100\n",
            "31/31 [==============================] - 0s 3ms/step - loss: 38.4214\n",
            "Epoch 40/100\n",
            "31/31 [==============================] - 0s 2ms/step - loss: 38.3662\n",
            "Epoch 41/100\n",
            "31/31 [==============================] - 0s 3ms/step - loss: 38.4771\n",
            "Epoch 42/100\n",
            "31/31 [==============================] - 0s 2ms/step - loss: 37.8227\n",
            "Epoch 43/100\n",
            "31/31 [==============================] - 0s 3ms/step - loss: 38.1784\n",
            "Epoch 44/100\n",
            "31/31 [==============================] - 0s 3ms/step - loss: 37.8600\n",
            "Epoch 45/100\n",
            "31/31 [==============================] - 0s 3ms/step - loss: 38.3061\n",
            "Epoch 46/100\n",
            "31/31 [==============================] - 0s 3ms/step - loss: 37.5150\n",
            "Epoch 47/100\n",
            "31/31 [==============================] - 0s 3ms/step - loss: 37.5589\n",
            "Epoch 48/100\n",
            "31/31 [==============================] - 0s 3ms/step - loss: 37.9669\n",
            "Epoch 49/100\n",
            "31/31 [==============================] - 0s 3ms/step - loss: 37.4529\n",
            "Epoch 50/100\n",
            "31/31 [==============================] - 0s 3ms/step - loss: 38.0913\n",
            "Epoch 51/100\n",
            "31/31 [==============================] - 0s 3ms/step - loss: 37.2678\n",
            "Epoch 52/100\n",
            "31/31 [==============================] - 0s 3ms/step - loss: 37.2264\n",
            "Epoch 53/100\n",
            "31/31 [==============================] - 0s 3ms/step - loss: 36.9760\n",
            "Epoch 54/100\n",
            "31/31 [==============================] - 0s 3ms/step - loss: 37.1655\n",
            "Epoch 55/100\n",
            "31/31 [==============================] - 0s 3ms/step - loss: 36.9910\n",
            "Epoch 56/100\n",
            "31/31 [==============================] - 0s 3ms/step - loss: 36.8292\n",
            "Epoch 57/100\n",
            "31/31 [==============================] - 0s 3ms/step - loss: 37.2935\n",
            "Epoch 58/100\n",
            "31/31 [==============================] - 0s 3ms/step - loss: 36.7385\n",
            "Epoch 59/100\n",
            "31/31 [==============================] - 0s 3ms/step - loss: 36.5957\n",
            "Epoch 60/100\n",
            "31/31 [==============================] - 0s 3ms/step - loss: 37.3975\n",
            "Epoch 61/100\n",
            "31/31 [==============================] - 0s 3ms/step - loss: 36.6669\n",
            "Epoch 62/100\n",
            "31/31 [==============================] - 0s 3ms/step - loss: 36.5760\n",
            "Epoch 63/100\n",
            "31/31 [==============================] - 0s 3ms/step - loss: 36.4561\n",
            "Epoch 64/100\n",
            "31/31 [==============================] - 0s 3ms/step - loss: 36.4924\n",
            "Epoch 65/100\n",
            "31/31 [==============================] - 0s 3ms/step - loss: 36.6234\n",
            "Epoch 66/100\n",
            "31/31 [==============================] - 0s 3ms/step - loss: 36.3636\n",
            "Epoch 67/100\n",
            "31/31 [==============================] - 0s 3ms/step - loss: 36.4713\n",
            "Epoch 68/100\n",
            "31/31 [==============================] - 0s 3ms/step - loss: 36.6216\n",
            "Epoch 69/100\n",
            "31/31 [==============================] - 0s 3ms/step - loss: 36.3083\n",
            "Epoch 70/100\n",
            "31/31 [==============================] - 0s 3ms/step - loss: 36.2914\n",
            "Epoch 71/100\n",
            "31/31 [==============================] - 0s 3ms/step - loss: 36.7828\n",
            "Epoch 72/100\n",
            "31/31 [==============================] - 0s 3ms/step - loss: 37.4232\n",
            "Epoch 73/100\n",
            "31/31 [==============================] - 0s 3ms/step - loss: 36.2588\n",
            "Epoch 74/100\n",
            "31/31 [==============================] - 0s 3ms/step - loss: 36.1638\n",
            "Epoch 75/100\n",
            "31/31 [==============================] - 0s 3ms/step - loss: 36.9586\n",
            "Epoch 76/100\n",
            "31/31 [==============================] - 0s 3ms/step - loss: 36.1228\n",
            "Epoch 77/100\n",
            "31/31 [==============================] - 0s 3ms/step - loss: 36.0921\n",
            "Epoch 78/100\n",
            "31/31 [==============================] - 0s 3ms/step - loss: 36.9281\n",
            "Epoch 79/100\n",
            "31/31 [==============================] - 0s 3ms/step - loss: 36.0095\n",
            "Epoch 80/100\n",
            "31/31 [==============================] - 0s 3ms/step - loss: 35.8765\n",
            "Epoch 81/100\n",
            "31/31 [==============================] - 0s 3ms/step - loss: 35.9918\n",
            "Epoch 82/100\n",
            "31/31 [==============================] - 0s 3ms/step - loss: 35.7266\n",
            "Epoch 83/100\n",
            "31/31 [==============================] - 0s 3ms/step - loss: 36.5033\n",
            "Epoch 84/100\n",
            "31/31 [==============================] - 0s 3ms/step - loss: 35.7173\n",
            "Epoch 85/100\n",
            "31/31 [==============================] - 0s 3ms/step - loss: 35.6479\n",
            "Epoch 86/100\n",
            "31/31 [==============================] - 0s 4ms/step - loss: 35.5009\n",
            "Epoch 87/100\n",
            "31/31 [==============================] - 0s 3ms/step - loss: 35.7144\n",
            "Epoch 88/100\n",
            "31/31 [==============================] - 0s 3ms/step - loss: 35.8581\n",
            "Epoch 89/100\n",
            "31/31 [==============================] - 0s 2ms/step - loss: 36.0060\n",
            "Epoch 90/100\n",
            "31/31 [==============================] - 0s 3ms/step - loss: 36.2875\n",
            "Epoch 91/100\n",
            "31/31 [==============================] - 0s 3ms/step - loss: 37.0659\n",
            "Epoch 92/100\n",
            "31/31 [==============================] - 0s 3ms/step - loss: 35.4179\n",
            "Epoch 93/100\n",
            "31/31 [==============================] - 0s 3ms/step - loss: 35.3868\n",
            "Epoch 94/100\n",
            "31/31 [==============================] - 0s 3ms/step - loss: 35.9006\n",
            "Epoch 95/100\n",
            "31/31 [==============================] - 0s 3ms/step - loss: 35.7258\n",
            "Epoch 96/100\n",
            "31/31 [==============================] - 0s 3ms/step - loss: 36.0231\n",
            "Epoch 97/100\n",
            "31/31 [==============================] - 0s 3ms/step - loss: 35.5186\n",
            "Epoch 98/100\n",
            "31/31 [==============================] - 0s 3ms/step - loss: 35.5882\n",
            "Epoch 99/100\n",
            "31/31 [==============================] - 0s 3ms/step - loss: 35.6618\n",
            "Epoch 100/100\n",
            "31/31 [==============================] - 0s 3ms/step - loss: 35.2546\n"
          ]
        },
        {
          "output_type": "execute_result",
          "data": {
            "text/plain": [
              "<keras.callbacks.History at 0x7f87b845ea90>"
            ]
          },
          "metadata": {},
          "execution_count": 28
        }
      ]
    },
    {
      "cell_type": "code",
      "source": [
        "print(model.predict(series[1000:1020][np.newaxis]))"
      ],
      "metadata": {
        "colab": {
          "base_uri": "https://localhost:8080/"
        },
        "id": "fzpPfZ1aEmDF",
        "outputId": "85d6cc16-ce24-45b6-8a7c-a0ab0daec031"
      },
      "execution_count": 29,
      "outputs": [
        {
          "output_type": "stream",
          "name": "stdout",
          "text": [
            "[[103.724266]]\n"
          ]
        }
      ]
    },
    {
      "cell_type": "code",
      "source": [
        ""
      ],
      "metadata": {
        "id": "dCWmQphrE90Z"
      },
      "execution_count": null,
      "outputs": []
    }
  ]
}